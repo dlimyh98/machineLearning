{
  "nbformat": 4,
  "nbformat_minor": 0,
  "metadata": {
    "colab": {
      "name": "A0223892Y_Assignment1",
      "provenance": [],
      "collapsed_sections": []
    },
    "kernelspec": {
      "name": "python3",
      "display_name": "Python 3"
    },
    "language_info": {
      "name": "python"
    }
  },
  "cells": [
    {
      "cell_type": "markdown",
      "source": [
        "# CS3244 Assignment 1\n",
        "\n",
        "We have seen the mathematical derivation of linear regression in class. In this problem, we shall convert that abstract understanding into implementation. You are encouraged to read this [introduction to linear algebra using PyTorch](https://d2l.ai/chapter_preliminaries/linear-algebra.html) before attempting if you have no prior experience with PyTorch."
      ],
      "metadata": {
        "id": "CVPc7r7Cs_f4"
      }
    },
    {
      "cell_type": "code",
      "source": [
        "import matplotlib.pyplot as plt\n",
        "import requests\n",
        "import torch"
      ],
      "metadata": {
        "id": "okxEvdEjtKVz"
      },
      "execution_count": null,
      "outputs": []
    },
    {
      "cell_type": "code",
      "source": [
        "test_seed = 0\n",
        "\n",
        "class TestCaseError(Exception):\n",
        "    pass\n",
        "\n",
        "def test_allclose(input, other):\n",
        "    if input.shape != other.shape:\n",
        "        raise TestCaseError(\"Wrong dimension\")\n",
        "    if not torch.allclose(input, other, atol=0.0002):\n",
        "        raise TestCaseError(\"Wrong solution\")\n",
        "    return True"
      ],
      "metadata": {
        "id": "sxOrid8Olvhu"
      },
      "execution_count": null,
      "outputs": []
    },
    {
      "cell_type": "markdown",
      "source": [
        "### Problem 0\n",
        "\n",
        "Let us start with some administrative matters. Follow the instruction [here](https://docs.google.com/document/d/1-D06Tb-ylRNM5ja6iAuB5kxOGDybJOVLZvqEvzczH4Y/edit?usp=sharing) to set up your notebook ."
      ],
      "metadata": {
        "id": "T4avZCG82AJt"
      }
    },
    {
      "cell_type": "markdown",
      "source": [
        "From a probablistic perspective, we assume that there are some true weights $w_*$ that governs the relationship between inputs $X$ and targets $t$. In particular, $t\\sim\\mathcal{N}(w_*^\\top x, \\sigma^2)$. The `generate_1d_linear_data` function implements this sampling process. Specifically, it takes $w_*$ as `weights_true`, $m$ as `num_samples`, and outputs $X$ as `inputs` and $t$ as `targets`. Certainly, we are not going to have this generative process in practice, but it is useful to use such toy examples for enchancing our understanding of a topic. "
      ],
      "metadata": {
        "id": "I4J7chq9tGTC"
      }
    },
    {
      "cell_type": "code",
      "source": [
        "def generate_1d_linear_data(weights_true, num_samples):\n",
        "    uniform = torch.distributions.uniform.Uniform(0, 5)\n",
        "    normal = torch.distributions.normal.Normal(0, 1)\n",
        "    inputs, _ = torch.sort(uniform.sample([num_samples, 1]))\n",
        "    augmented_inputs = torch.hstack((torch.ones(num_samples, 1), inputs))\n",
        "    targets = augmented_inputs @ weights_true + normal.sample([num_samples])\n",
        "    return inputs, targets"
      ],
      "metadata": {
        "id": "1zkjIzO_zoiX"
      },
      "execution_count": null,
      "outputs": []
    },
    {
      "cell_type": "code",
      "source": [
        "torch.manual_seed(test_seed)\n",
        "weights_true = torch.tensor([2., 3.])\n",
        "inputs, targets = generate_1d_linear_data(weights_true, 30)\n",
        "\n",
        "fig, ax = plt.subplots()\n",
        "ax.scatter(inputs, targets)\n",
        "fig.show()"
      ],
      "metadata": {
        "id": "IHfL_yf9QK5-",
        "colab": {
          "base_uri": "https://localhost:8080/",
          "height": 265
        },
        "outputId": "31c01e85-2113-4a35-ba2a-95e267dee07d"
      },
      "execution_count": null,
      "outputs": [
        {
          "output_type": "display_data",
          "data": {
            "text/plain": [
              "<Figure size 432x288 with 1 Axes>"
            ],
            "image/png": "[encoded data removed]"
          },
          "metadata": {
            "needs_background": "light"
          }
        }
      ]
    },
    {
      "cell_type": "markdown",
      "source": [
        "Recall that the goal of linear regression is to find a $\\hat{w}$ that best approximates the unknown $w_*$ using $X$ and $t$. As such, you should not use $w_*$ from here onwards."
      ],
      "metadata": {
        "id": "EEiFOEuzDEqB"
      }
    },
    {
      "cell_type": "markdown",
      "source": [
        "### Problem 1\n",
        "\n",
        "A common trick used to deal with the bias (or offset) term is to augment the input vector $x=[x_1,\\dots,x_D]$ with $x_0=1$. This allows us to simplify the computation of\n",
        "\n",
        "$$y(x)=w_0+\\sum_{i=1}^D w_i x_i,$$\n",
        "\n",
        "into a simple vector multiplication $y(x)=w^\\top x$. Implement the `augment_linear_inputs` function with the following specifications:\n",
        "\n",
        "**Input**\n",
        "\n",
        "- `inputs`: the input matrix $X\\in\\mathbb{R}^{N\\times D}$\n",
        "\n",
        "**Output**\n",
        "\n",
        "- the augmented input matrix where each row starts with 1"
      ],
      "metadata": {
        "id": "C_dkpj3GQ18b"
      }
    },
    {
      "cell_type": "code",
      "source": [
        "def augment_linear_inputs(inputs):\n",
        "    #print(inputs)\n",
        "    padding = torch.nn.ConstantPad1d(padding=(1,0), value=1)\n",
        "    augmented_inputs = padding(inputs)\n",
        "    #print(augmented_inputs)\n",
        "    return augmented_inputs"
      ],
      "metadata": {
        "id": "e20u603kQv2y"
      },
      "execution_count": null,
      "outputs": []
    },
    {
      "cell_type": "code",
      "source": [
        "# Public testcase for augment_linear_inputs\n",
        "\n",
        "torch.manual_seed(test_seed)\n",
        "weights_true = torch.tensor([2., 3.])\n",
        "inputs, targets = generate_1d_linear_data(weights_true, 3)\n",
        "\n",
        "augmented_inputs = augment_linear_inputs(inputs)\n",
        "expected_augmented_inputs = torch.tensor([[1.0000, 2.4813], [1.0000, 3.8411], [1.0000, 0.4424]])\n",
        "is_correct = test_allclose(augmented_inputs, expected_augmented_inputs)\n",
        "print(f\"Public testcase for augment_linear_inputs: {is_correct}\")"
      ],
      "metadata": {
        "id": "S11dTaH_QlQq",
        "colab": {
          "base_uri": "https://localhost:8080/"
        },
        "outputId": "052c38aa-056e-42ca-f954-1f65470aab69"
      },
      "execution_count": null,
      "outputs": [
        {
          "output_type": "stream",
          "name": "stdout",
          "text": [
            "Public testcase for augment_linear_inputs: True\n"
          ]
        }
      ]
    },
    {
      "cell_type": "markdown",
      "source": [
        "### Problem 2\n",
        "\n",
        "Implement the `error_gradient` function with the following specifications:\n",
        "\n",
        "**Input**\n",
        "\n",
        "- `weights_current`: the current weights $\\hat{w}\\in\\mathbb{R}^{D+1}$ \n",
        "- `inputs`: the input matrix $X\\in\\mathbb{R}^{N\\times(D+1)}$ \n",
        "- `targets`: the target vector $t\\in\\mathbb{R}^N$ \n",
        "\n",
        "**Output**\n",
        "\n",
        "- the gradient of the error function $\\nabla_w E(w)$\n",
        "\n",
        "**Notes**\n",
        "\n",
        "Note that the input is already augmented, hence the $D+1$ in dimension. On a separate note, you should write your code to work for arbitrary dimension $D$. This will be utilized from Problem 6 onwards. "
      ],
      "metadata": {
        "id": "cKmLGIsOEUyV"
      }
    },
    {
      "cell_type": "code",
      "execution_count": null,
      "metadata": {
        "id": "qETRTeYQjHpj"
      },
      "outputs": [],
      "source": [
        "def error_gradient(weights_current, inputs, targets):\n",
        "    numRows = inputs.size(dim=0)\n",
        "    numCols = weights_current.size(dim=0)\n",
        "\n",
        "    weightsReshaped = torch.reshape(weights_current, (-1,)).float()\n",
        "    inputsReshaped = torch.reshape(inputs, (numRows,-1)).float()\n",
        "    targetsReshaped = torch.reshape(targets, (-1,)).float()\n",
        "\n",
        "    #print(\"weightsReshaped is\\n\", weightsReshaped)\n",
        "    #print(weightsReshaped.size())\n",
        "    #print(\"\\ninputsReshaped is\\n\", inputsReshaped)\n",
        "    #print(inputsReshaped.size())\n",
        "    #print(\"\\ntargetsReshaped is\\n\", targetsReshaped)\n",
        "    #print(targetsReshaped.size())\n",
        "\n",
        "    inputsTransposed = torch.transpose(input=inputsReshaped, dim0=0, dim1=1)\n",
        "    firstTerm = torch.negative(torch.matmul(inputsTransposed,targetsReshaped))  ## -X^T @ Y\n",
        "    secondTerm = torch.matmul(torch.matmul(inputsTransposed, inputsReshaped), weightsReshaped)  ## (X^T @ X) @ W\n",
        "    finalTerm = torch.add(firstTerm, secondTerm)\n",
        "    finalTermReshaped = torch.reshape(finalTerm, (-1,))\n",
        "\n",
        "    #print(\"\\ngradient is\\n\", finalTermReshaped)\n",
        "    #print(finalTermReshaped.size())\n",
        "    return finalTermReshaped"
      ]
    },
    {
      "cell_type": "code",
      "source": [
        "# Public testcase for error_gradient\n",
        "\n",
        "torch.manual_seed(test_seed)\n",
        "weights_true = torch.tensor([2., 3.])\n",
        "inputs, targets = generate_1d_linear_data(weights_true, 3)\n",
        "weights_current = torch.tensor([1., 1.])\n",
        "augmented_inputs = augment_linear_inputs(inputs)\n",
        "\n",
        "gradient = error_gradient(weights_current, augmented_inputs, targets)\n",
        "expected_gradient = torch.tensor([-17.1925, -50.4709])\n",
        "is_correct = test_allclose(gradient, expected_gradient)\n",
        "print(f\"Public testcase for error_gradient: {is_correct}\")"
      ],
      "metadata": {
        "id": "G-N8PcQ0P9zg",
        "colab": {
          "base_uri": "https://localhost:8080/"
        },
        "outputId": "a31d5819-53ce-470c-d079-13485e661d00"
      },
      "execution_count": null,
      "outputs": [
        {
          "output_type": "stream",
          "name": "stdout",
          "text": [
            "Public testcase for error_gradient: True\n"
          ]
        }
      ]
    },
    {
      "cell_type": "markdown",
      "source": [
        "### Problem 3\n",
        "\n",
        "Implement the `gradient_descent` function with the following specificiations:\n",
        "\n",
        "**Input**\n",
        "\n",
        "- `weights_initial`: the initial guess for the weights $\\hat{w}\\in\\mathbb{R}^{D+1}$ \n",
        "- `inputs`: the input matrix $X\\in\\mathbb{R}^{N\\times(D+1)}$ \n",
        "- `targets`: the target vector $t\\in\\mathbb{R}^N$ \n",
        "- `learning_rate`: the learning rate $\\alpha$\n",
        "- `num_iterations`: the number of updates to the weights\n",
        "\n",
        "**Output**\n",
        "\n",
        "- the learned weights $\\hat{w}$ after performing gradient descent on the data"
      ],
      "metadata": {
        "id": "ub0qRiPEFkr0"
      }
    },
    {
      "cell_type": "code",
      "source": [
        "def gradient_descent(weights_initial, inputs, targets, learning_rate, num_iterations):\n",
        "    for counter in range (num_iterations):\n",
        "        weights_initial = weights_initial - (learning_rate * error_gradient(weights_initial, inputs, targets))\n",
        "\n",
        "    return weights_initial"
      ],
      "metadata": {
        "id": "-jRNSNHVjV9Y"
      },
      "execution_count": null,
      "outputs": []
    },
    {
      "cell_type": "code",
      "source": [
        "# Public testcase for gradient_descent\n",
        "\n",
        "torch.manual_seed(test_seed)\n",
        "weights_true = torch.tensor([2., 3.])\n",
        "inputs, targets = generate_1d_linear_data(weights_true, 3)\n",
        "augmented_inputs = augment_linear_inputs(inputs)\n",
        "weights_initial = torch.tensor([1., 1.])\n",
        "learning_rate = 0.001\n",
        "num_iterations = 20\n",
        "\n",
        "weights_learned = gradient_descent(weights_initial, augmented_inputs, targets, learning_rate, num_iterations)\n",
        "expected_weights_learned = torch.tensor([1.2787, 1.8135])\n",
        "is_correct = test_allclose(weights_learned, expected_weights_learned)\n",
        "print(f\"Public testcase for gradient_descent: {is_correct}\")"
      ],
      "metadata": {
        "id": "q7Is8r5ZoGIN",
        "colab": {
          "base_uri": "https://localhost:8080/"
        },
        "outputId": "2e6b4d62-3376-4bdf-faa4-1fb7d4c56546"
      },
      "execution_count": null,
      "outputs": [
        {
          "output_type": "stream",
          "name": "stdout",
          "text": [
            "Public testcase for gradient_descent: True\n"
          ]
        }
      ]
    },
    {
      "cell_type": "markdown",
      "source": [
        "### Problem 4\n",
        "\n",
        "Implement the `visualize_linear_model` function with the following specificiations. You are encouraged to read the [Basic Usage](https://matplotlib.org/stable/tutorials/introductory/usage.html#sphx-glr-tutorials-introductory-usage-py) and [Pyplot Tutorial](https://matplotlib.org/stable/tutorials/introductory/pyplot.html#sphx-glr-tutorials-introductory-pyplot-py) if you have no prior experience with Matplotlib. When plotting, adhere to the OO-style described in the [Coding Styles](https://matplotlib.org/stable/tutorials/introductory/usage.html#coding-styles) section.\n",
        "\n",
        "**Input**\n",
        "\n",
        "- `weights_current`: the weights vector $\\hat{w}\\in\\mathbb{R}^2$ \n",
        "- `inputs`: the input matrix $X\\in\\mathbb{R}^{N\\times 2}$ \n",
        "- `targets`: the target vector $t\\in\\mathbb{R}^N$ \n",
        "\n",
        "**Output**\n",
        "\n",
        "- a `matplotlib` figure with\n",
        "    - a <font color=\"red\">red</font> scatter plot of `inputs` and `targets`\n",
        "    - a <font color=\"green\">green</font> line plot described by the `weights` vector\n",
        "\n",
        "**Example**\n",
        "\n",
        "If done right, your output should look like this (without the scribbles).\n",
        "\n",
        "![index.png](https://drive.google.com/uc?export=view&id=1AajXyexn7yoy8GHZDX8z99356OhMSNC1)\n",
        "\n",
        "**Notes**\n",
        "\n",
        "This only works for $D=1$."
      ],
      "metadata": {
        "id": "bJYXte2PH5O_"
      }
    },
    {
      "cell_type": "code",
      "source": [
        "def wLinear(weights, nonAugmentedInputs):\n",
        "    return weights[0] + weights[1] * nonAugmentedInputs    # returns a column vector\n",
        "\n",
        "\n",
        "def visualize_linear_model(weights_learned, inputs, targets):\n",
        "    nonAugmentedInputs = (inputs[:, 1:])    # remove the augmented column of 1s\n",
        "\n",
        "    fig, ax = plt.subplots()\n",
        "    ax.set_title('Visualizing Linear Model')\n",
        "    ax.set_xlabel(\"$x$\")\n",
        "    ax.set_ylabel(\"$y$\")\n",
        "    ax.scatter(nonAugmentedInputs,targets, color = 'red')\n",
        "    ax.plot(nonAugmentedInputs, wLinear(weights_learned, nonAugmentedInputs), color='green')    # x-axis should be nonAugmentedInputs, since original data does not have '1' augmented to it\n",
        "    return fig"
      ],
      "metadata": {
        "id": "238ZH9ZkHuL1"
      },
      "execution_count": null,
      "outputs": []
    },
    {
      "cell_type": "markdown",
      "source": [
        "Let us see your code in action. The following code set the initial weights and hyperparameters, compute the learned weights using your `gradient_descent` function, and visualize the learned curve using your `visualize_model` function. If your curve fits the data and the `weights_learned` are close to $w_*=[2.0,3.0]$, you code is most likely correct."
      ],
      "metadata": {
        "id": "sIbgcbhvMIaO"
      }
    },
    {
      "cell_type": "code",
      "source": [
        "torch.manual_seed(test_seed)\n",
        "weights_true = torch.tensor([2., 3.])\n",
        "inputs, targets = generate_1d_linear_data(weights_true, 30)\n",
        "augmented_inputs = augment_linear_inputs(inputs)\n",
        "weights_initial = torch.tensor([1., 1.])\n",
        "learning_rate = 0.001\n",
        "num_iterations = 20\n",
        "\n",
        "weights_learned = gradient_descent(weights_initial, augmented_inputs, targets, learning_rate, num_iterations)\n",
        "print(f\"Model weights are {weights_learned.tolist()}\")\n",
        "\n",
        "fig = visualize_linear_model(weights_learned, augmented_inputs, targets)\n",
        "fig.show()"
      ],
      "metadata": {
        "id": "sYjgQV19JM2V",
        "colab": {
          "base_uri": "https://localhost:8080/",
          "height": 312
        },
        "outputId": "354dd5bd-c4b3-438a-af63-5c651d6b1e2f"
      },
      "execution_count": null,
      "outputs": [
        {
          "output_type": "stream",
          "name": "stdout",
          "text": [
            "Model weights are [1.7107689380645752, 3.080777406692505]\n"
          ]
        },
        {
          "output_type": "display_data",
          "data": {
            "text/plain": [
              "<Figure size 432x288 with 1 Axes>"
            ],
            "image/png": "[encoded data removed]"
          },
          "metadata": {
            "needs_background": "light"
          }
        }
      ]
    },
    {
      "cell_type": "markdown",
      "source": [
        "### Problem 5\n",
        "\n",
        "In the previous code block, we have arbitrarily set $\\alpha=0.001$. Let us explore the effect of the learning rate in more detail. To do so, we want to visualize the error over the training process. Implement the `gradient_descent_with_logger` with the following specifications.\n",
        "\n",
        "**Input**\n",
        "\n",
        "- `weights_initial`: the initial guess for the weights $\\hat{w}\\in\\mathbb{R}^{D+1}$ \n",
        "- `inputs`: the input matrix $X\\in\\mathbb{R}^{N\\times(D+1)}$ \n",
        "- `targets`: the target vector $t\\in\\mathbb{R}^N$ \n",
        "- `learning_rate`: the learning rate $\\alpha$\n",
        "- `num_iterations`: the number of updates to the weights\n",
        "\n",
        "**Output**\n",
        "\n",
        "- the learned weights $\\hat{w}$ after performing gradient descent on the data\n",
        "- a PyTorch 1D-tensor of the error after each iteration of gradient descent (including the error before and after the training)"
      ],
      "metadata": {
        "id": "pPN1NAKjQpyK"
      }
    },
    {
      "cell_type": "code",
      "source": [
        "def fitHypothesisLinear(weightsLearned, nonAugmentedInputs, numFeatures):\n",
        "    numRows = nonAugmentedInputs.size(dim=0)\n",
        "    numCols = nonAugmentedInputs.size(dim=1)\n",
        "\n",
        "    predictedOutput = torch.empty(size=(numRows, numCols))\n",
        "\n",
        "    # each weight must be matched to it's corresponding feature\n",
        "    for i in range (numFeatures):\n",
        "        #print(weightsLearned[i])\n",
        "        #print(nonAugmentedInputs[:,i])\n",
        "        #print(weightsLearned[i] * nonAugmentedInputs[:,i])\n",
        "        predictedOutput[:, i] = weightsLearned[i] * nonAugmentedInputs[:,i]\n",
        "\n",
        "    # Sum up along all columns, to give a Nx1 column vector\n",
        "    # each row entry denotes the PREDICTED OUTPUT given some INPUT\n",
        "    predictedOutput = predictedOutput.sum(axis=1, keepdim=True)\n",
        "    return predictedOutput\n",
        "\n",
        "\n",
        "def getError(trueOutputs, predictedOutputs):\n",
        "    #print(\"trueOutputs is\", trueOutputs)\n",
        "    #print(\"\\npredictedOutputs is\", predictedOutputs)\n",
        "    #print(torch.reshape(predictedOutputs, (-1,)))\n",
        "\n",
        "    subError = torch.sub(trueOutputs, torch.reshape(predictedOutputs, (-1,)))\n",
        "    #print(\"\\nsubTensor is\", subError)\n",
        "\n",
        "    squaredSub = torch.square(subError)\n",
        "    return (0.5 * squaredSub.sum())       # include 1/2 term as per loss function\n",
        "\n",
        "\n",
        "def gradient_descent_with_logger(weights_initial, inputs, targets, learning_rate, num_iterations):\n",
        "    #print(\"weights_initial is\", weights_initial)\n",
        "    #print(\"\\ninputs is\", inputs )\n",
        "    #print(\"\\ntargets is\", targets)\n",
        "\n",
        "    # add trainingError before ANY training is done\n",
        "    trainingError = [getError(targets, fitHypothesisLinear(weights_initial, inputs, inputs.size(dim=1)))]\n",
        "\n",
        "    # begin training\n",
        "    for counter in range (num_iterations):\n",
        "        weights_initial = weights_initial - (learning_rate * error_gradient(weights_initial, inputs, targets))\n",
        "        #print('\\nweightsLearned for {}th iteration is'.format(counter), weights_initial)\n",
        "\n",
        "        predictedOutputs = fitHypothesisLinear(weights_initial, inputs, inputs.size(dim=1))\n",
        "        #print(\"\\npredictedOutputs is\", predictedOutputs, \"\\n\")\n",
        "        trainingError += [getError(targets, predictedOutputs)]\n",
        "\n",
        "\n",
        "    #print(\"\\n trainingError is\", trainingError)\n",
        "    weights_learned = weights_initial\n",
        "    return weights_learned, torch.Tensor(trainingError)"
      ],
      "metadata": {
        "id": "f9NEIyESR3ah"
      },
      "execution_count": null,
      "outputs": []
    },
    {
      "cell_type": "code",
      "source": [
        "# Public testcase for gradient_descent_with_logger\n",
        "\n",
        "torch.manual_seed(test_seed)\n",
        "weights_true = torch.tensor([2., 3.])\n",
        "inputs, targets = generate_1d_linear_data(weights_true, 30)\n",
        "augmented_inputs = augment_linear_inputs(inputs)\n",
        "weights_initial = torch.tensor([1., 1.])\n",
        "learning_rate = 0.001\n",
        "num_iterations = 5\n",
        "\n",
        "_, error = gradient_descent_with_logger(weights_initial, augmented_inputs, targets, learning_rate, num_iterations)\n",
        "expected_error = torch.tensor([597.8280, 349.5298, 206.3568, 123.8006, 76.1970, 48.7477])\n",
        "is_correct = test_allclose(error, expected_error)\n",
        "print(f\"Public testcase for gradient_descent_with_logger: {is_correct}\")"
      ],
      "metadata": {
        "id": "xqSJDbWvrVSl",
        "colab": {
          "base_uri": "https://localhost:8080/"
        },
        "outputId": "aeb9f485-a985-4539-855f-4270d4688971"
      },
      "execution_count": null,
      "outputs": [
        {
          "output_type": "stream",
          "name": "stdout",
          "text": [
            "Public testcase for gradient_descent_with_logger: True\n"
          ]
        }
      ]
    },
    {
      "cell_type": "markdown",
      "source": [
        "### Problem 6\n",
        "\n",
        "To visualize the effect of the learning rate $\\alpha$, we want to plot the error curve for multiple learning rates. Implement the `visualize_error` function with the following specificiations.\n",
        "\n",
        "**Input**\n",
        "\n",
        "- `weights_initial`: the initial guess for the weights $\\hat{w}\\in\\mathbb{R}^2$ \n",
        "- `inputs`: the input matrix $X\\in\\mathbb{R}^{N\\times 2}$ \n",
        "- `targets`: the target vector $t\\in\\mathbb{R}^N$ \n",
        "- `learning_rates`: an array of learning rates that we want to include in the visualization of the error curve\n",
        "- `num_iterations`: the number of updates to the weights\n",
        "\n",
        "**Output**\n",
        "\n",
        "- a `matplotlib` figure with\n",
        "    - a line plot for each error curve\n",
        "    - a legend associating the learning rate to each error curve\n",
        "\n",
        "**Example**\n",
        "\n",
        "If done right, your output should look like this (without the scribbles).\n",
        "\n",
        "![index.png](https://drive.google.com/uc?export=view&id=13Stf3A-77xOu6xreK-eQFuNS4W_yHfmm)"
      ],
      "metadata": {
        "id": "HGcVYRbuSvhJ"
      }
    },
    {
      "cell_type": "code",
      "source": [
        "def convertToList (numIterations):\n",
        "   iterationList = []\n",
        "   \n",
        "   for i in range(numIterations + 1):\n",
        "       iterationList.append(i)\n",
        "\n",
        "   return (iterationList)\n",
        "\n",
        "\n",
        "def visualize_errors(weights_initial, inputs, targets, learning_rates, num_iterations):\n",
        "    fig, ax = plt.subplots()\n",
        "    ax.set_title('Visualizing Learning Rates')\n",
        "    ax.set_xlabel(\"Number of Iterations\")\n",
        "    ax.set_ylabel(\"Error\")\n",
        "\n",
        "    errorLearningRates = []\n",
        "    for learningRate in learning_rates:\n",
        "        _, errorLearningRate = gradient_descent_with_logger(weights_initial, inputs, targets, learningRate, num_iterations)    # returns vector, corresponding to error rates as iterations increases FOR SOME learning rate\n",
        "        errorLearningRates.append(errorLearningRate)\n",
        "\n",
        "    for loopCounter, errorLearningRate in enumerate(errorLearningRates):\n",
        "        convertedList = errorLearningRate.tolist()\n",
        "        ax.plot(convertToList(num_iterations), convertedList, label = f'Learning Rate = {learning_rates[loopCounter]}')\n",
        "\n",
        "    ax.legend()\n",
        "    return fig"
      ],
      "metadata": {
        "id": "29kVEwSVUULA"
      },
      "execution_count": null,
      "outputs": []
    },
    {
      "cell_type": "markdown",
      "source": [
        "Let us see your code in action again. The following code set the initial weights, provide a set of learning rates, and visualize the error curves for these learning rates. Can you give an explanation for your observation?"
      ],
      "metadata": {
        "id": "YKVD-leGb05i"
      }
    },
    {
      "cell_type": "code",
      "source": [
        "# Public testcase for visualize_errors\n",
        "\n",
        "torch.manual_seed(test_seed)\n",
        "weights_true = torch.tensor([2., 3.])\n",
        "inputs, targets = generate_1d_linear_data(weights_true, 30)\n",
        "augmented_inputs = augment_linear_inputs(inputs)\n",
        "weights_initial = torch.tensor([1., 1.])\n",
        "learning_rates = [ 0.0003, 0.001, 0.003, 0.009 ]\n",
        "num_iterations = 20\n",
        "\n",
        "fig = visualize_errors(weights_initial, augmented_inputs, targets, learning_rates, num_iterations)\n",
        "fig.axes[0].set_ylim([0, 1000])\n",
        "fig.show()"
      ],
      "metadata": {
        "id": "FkgMqCylSUwK",
        "colab": {
          "base_uri": "https://localhost:8080/",
          "height": 295
        },
        "outputId": "34254fc5-eead-4a4e-a911-65b38db6cf58"
      },
      "execution_count": null,
      "outputs": [
        {
          "output_type": "display_data",
          "data": {
            "text/plain": [
              "<Figure size 432x288 with 1 Axes>"
            ],
            "image/png": "[encoded data removed]"
          },
          "metadata": {
            "needs_background": "light"
          }
        }
      ]
    },
    {
      "cell_type": "markdown",
      "source": [
        "Let us now shift our focus to fitting nonlinear functions. As mentioned prior to Problem 1,\n",
        "\n",
        "> From a probablistic perspective, we assume that there are some true weights $w_*$ that governs the relationship between inputs $X$ and targets $t$. In particular, $t\\sim\\mathcal{N}(w_*^\\top x, \\sigma^2)$.\n",
        "\n",
        "Instead of $y(x)=w_*^\\top x$, let us assume that the underlying process $t(x)=a+bx+\\ln(x^c)$ for some weight vector $w_*=[a,b,c]=[3,-2,5]$."
      ],
      "metadata": {
        "id": "qQzkOtofO5mi"
      }
    },
    {
      "cell_type": "code",
      "source": [
        "def generate_1d_nonlinear_data(weights_true, num_samples):\n",
        "    uniform = torch.distributions.uniform.Uniform(1, 5)\n",
        "    normal = torch.distributions.normal.Normal(0, 0.1)\n",
        "    inputs, _ = torch.sort(uniform.sample([num_samples, 1]), dim=0)\n",
        "    targets = weights_true[0] * torch.ones([num_samples]) + \\\n",
        "              weights_true[1] * inputs[:,0] + \\\n",
        "              torch.log(inputs[:,0] ** weights_true[2]) + \\\n",
        "              normal.sample([num_samples])\n",
        "    return inputs, targets"
      ],
      "metadata": {
        "id": "KTIkfnx3J5tU"
      },
      "execution_count": null,
      "outputs": []
    },
    {
      "cell_type": "code",
      "source": [
        "torch.manual_seed(test_seed)\n",
        "weights_true = torch.Tensor([3., -2., 5.])\n",
        "inputs, targets = generate_1d_nonlinear_data(weights_true, 50)\n",
        "\n",
        "fig, ax = plt.subplots()\n",
        "ax.scatter(inputs, targets)\n",
        "fig.show()"
      ],
      "metadata": {
        "id": "IAuSLlfaYOfQ",
        "colab": {
          "base_uri": "https://localhost:8080/",
          "height": 265
        },
        "outputId": "47c2d766-d312-4f7d-e3bd-4dc210e40a2a"
      },
      "execution_count": null,
      "outputs": [
        {
          "output_type": "display_data",
          "data": {
            "text/plain": [
              "<Figure size 432x288 with 1 Axes>"
            ],
            "image/png": "[encoded data removed]"
          },
          "metadata": {
            "needs_background": "light"
          }
        }
      ]
    },
    {
      "cell_type": "markdown",
      "source": [
        "Also from Problem 1,\n",
        "\n",
        "> Certainly, we are not going to have this generative process in practice, but it is useful to use such toy examples for enchancing our understanding of a topic. \n",
        "\n",
        "As usual, you should not use your knowledge of $w_*$ from here onwards. To fit this nonlinear curve, we need to use a basis function. Assuming we know the form, but not the exact parameters, of the underlying process, can you see why $\\phi(x)=[1,x,\\ln(x)]$ is a good choice of basis function?"
      ],
      "metadata": {
        "id": "NXtmq0MLXoXt"
      }
    },
    {
      "cell_type": "markdown",
      "source": [
        "### Problem 7\n",
        "\n",
        "Implement the `basis_function` function with the following specifications.\n",
        "\n",
        "**Input**\n",
        "\n",
        "- `inputs`: the input matrix $X\\in\\mathbb{R}^{N\\times 1}$\n",
        "\n",
        "**Output**\n",
        "\n",
        "- the mapped input $\\phi(X)\\in\\mathbb{R}^{N\\times 3}$ where each row is $\\phi(x)=[1,x,\\ln(x)]$"
      ],
      "metadata": {
        "id": "hX4fnwf0Iyy9"
      }
    },
    {
      "cell_type": "code",
      "source": [
        "def transformBasis(dataPoint):\n",
        "    return [1, dataPoint.item(), torch.log(dataPoint).item()]\n",
        "\n",
        "def basis_function(inputs):\n",
        "    numRows = inputs.size(dim=0)\n",
        "    mappedInputs = torch.empty(size=(numRows, 3))\n",
        "\n",
        "    for i in range(numRows):\n",
        "        mappedInputs[i, :] = torch.FloatTensor(transformBasis(inputs[i,:]))\n",
        "\n",
        "    return mappedInputs"
      ],
      "metadata": {
        "id": "-S3pF9RlIyOu"
      },
      "execution_count": null,
      "outputs": []
    },
    {
      "cell_type": "code",
      "source": [
        "# Public testcase for basis_function\n",
        "\n",
        "torch.manual_seed(test_seed)\n",
        "weights_true = torch.Tensor([3., -2., 5.])\n",
        "inputs, targets = generate_1d_nonlinear_data(weights_true, 3)\n",
        "\n",
        "mapped_inputs = basis_function(inputs.clone())\n",
        "expected_mapped_inputs = torch.tensor([[1.0000, 1.3539, 0.3030], [1.0000, 2.9850, 1.0936], [1.0000, 4.0729, 1.4044]])\n",
        "is_correct = test_allclose(mapped_inputs, expected_mapped_inputs)\n",
        "print(f\"Public testcase for basis_function: {is_correct}\")"
      ],
      "metadata": {
        "id": "-Yu0Hs5utDYa",
        "colab": {
          "base_uri": "https://localhost:8080/"
        },
        "outputId": "d86c2e0b-b017-455e-b2e1-4cab70451d07"
      },
      "execution_count": null,
      "outputs": [
        {
          "output_type": "stream",
          "name": "stdout",
          "text": [
            "Public testcase for basis_function: True\n"
          ]
        }
      ]
    },
    {
      "cell_type": "markdown",
      "source": [
        "### Problem 8\n",
        "\n",
        "Implement the `visualize_nonlinear_model` function with the following specificiations.\n",
        "\n",
        "**Input**\n",
        "\n",
        "- `weights_current`: the weights vector $\\hat{w}\\in\\mathbb{R}^3$ \n",
        "- `inputs`: the input matrix $X\\in\\mathbb{R}^{N\\times 3}$ \n",
        "- `targets`: the target vector $t\\in\\mathbb{R}^N$ \n",
        "\n",
        "**Output**\n",
        "\n",
        "- a `matplotlib` figure with\n",
        "    - a <font color=\"red\">red</font> scatter plot of `inputs` and `targets`\n",
        "    - a <font color=\"green\">green</font> line plot described by the `weights` vector\n",
        "\n",
        "**Example**\n",
        "\n",
        "If done right, your output should look like this (without the scribbles).\n",
        "\n",
        "![index.png](https://drive.google.com/uc?export=view&id=12zoYCphS93pgAMNn5-zjV9atFcaUXvSp)\n",
        "\n",
        "**Notes**\n",
        "\n",
        "This only works for your choice of basis function."
      ],
      "metadata": {
        "id": "9Z9zwAJzj4fI"
      }
    },
    {
      "cell_type": "code",
      "source": [
        "def reverseBasis(basisData):\n",
        "    return[basisData[1]]\n",
        "\n",
        "def wNonLinear(weights_learned, basis_inputs):\n",
        "    return weights_learned[0] * basis_inputs[:,0] + weights_learned[1] * basis_inputs[:,1] + weights_learned[2] * basis_inputs[:,2]\n",
        "\n",
        "\n",
        "def visualize_nonlinear_model(weights_learned, basis_inputs, targets):\n",
        "    # get the original inputs\n",
        "    numRows = basis_inputs.size(dim=0)\n",
        "    originalInputs = torch.empty(size=(numRows, 1))\n",
        "    \n",
        "    for i in range (numRows):\n",
        "        originalInputs[i,:] = torch.FloatTensor(reverseBasis(basis_inputs[i,:]))\n",
        "\n",
        "    fig, ax = plt.subplots()\n",
        "    ax.set_title('Visualizing Non-Linear Model')\n",
        "    ax.set_xlabel(\"$x$\")\n",
        "    ax.set_ylabel(\"$t$\")\n",
        "    ax.scatter(originalInputs, targets, color = 'red')\n",
        "    ax.plot(originalInputs, wNonLinear(weights_learned, basis_inputs), color='green')\n",
        "\n",
        "    return fig"
      ],
      "metadata": {
        "id": "mWLnTh-BZ1t-"
      },
      "execution_count": null,
      "outputs": []
    },
    {
      "cell_type": "markdown",
      "source": [
        "Let us put everything together. Note that if you implement `gradient_descent_with_logger` correctly, you should not need to make any modification on those functions here."
      ],
      "metadata": {
        "id": "lj2aaFkYlCcZ"
      }
    },
    {
      "cell_type": "code",
      "source": [
        "# Public testcase for visualize_nonlinear_model\n",
        "\n",
        "torch.manual_seed(test_seed)\n",
        "weights_true = torch.Tensor([3., -2., 5.])\n",
        "inputs, targets = generate_1d_nonlinear_data(weights_true, 50)\n",
        "mapped_inputs = basis_function(inputs)\n",
        "weights_initial = torch.Tensor([1., 1., 1.])\n",
        "learning_rate = 0.001\n",
        "num_iterations = 20\n",
        "\n",
        "weights_learned, errors = gradient_descent_with_logger(weights_initial, mapped_inputs, targets, learning_rate, num_iterations)\n",
        "print(f\"Model has an error of {errors[-1]:.3f}\")\n",
        "fig = visualize_nonlinear_model(weights_learned, mapped_inputs, targets)\n",
        "fig.show()"
      ],
      "metadata": {
        "id": "fI90RG5hZpDC",
        "colab": {
          "base_uri": "https://localhost:8080/",
          "height": 312
        },
        "outputId": "f9d9b6af-00ea-46dc-cf91-07cf1bae284c"
      },
      "execution_count": null,
      "outputs": [
        {
          "output_type": "stream",
          "name": "stdout",
          "text": [
            "Model has an error of 12.644\n"
          ]
        },
        {
          "output_type": "display_data",
          "data": {
            "text/plain": [
              "<Figure size 432x288 with 1 Axes>"
            ],
            "image/png": "[encoded data removed]"
          },
          "metadata": {
            "needs_background": "light"
          }
        }
      ]
    },
    {
      "cell_type": "markdown",
      "source": [
        "This looks really bad, and the error is really high. Perhaps looking at the error curve can help illuminate the issue."
      ],
      "metadata": {
        "id": "-ag3FqwomQyb"
      }
    },
    {
      "cell_type": "code",
      "source": [
        "def plot_error_curve(errors, learning_rate):\n",
        "    fig, ax = plt.subplots()\n",
        "    ax.set_title('Errors of Non-Linear Model')\n",
        "    ax.set_xlabel(\"Number of Iterations\")\n",
        "    ax.set_ylabel(\"$Error$\")\n",
        "    ax.plot(errors, label = f'Learning Rate = {learning_rate}')\n",
        "    ax.legend()\n",
        "    ax.set_ylim(0, 30)\n",
        "    return fig"
      ],
      "metadata": {
        "id": "yMnZx_2ZsJ_8"
      },
      "execution_count": null,
      "outputs": []
    },
    {
      "cell_type": "code",
      "source": [
        "fig = plot_error_curve(errors, learning_rate)\n",
        "fig.show()"
      ],
      "metadata": {
        "id": "JwbBxvxixLPF",
        "colab": {
          "base_uri": "https://localhost:8080/",
          "height": 295
        },
        "outputId": "f7e923e6-1005-4d4f-b649-db9380181cd0"
      },
      "execution_count": null,
      "outputs": [
        {
          "output_type": "display_data",
          "data": {
            "text/plain": [
              "<Figure size 432x288 with 1 Axes>"
            ],
            "image/png": "[encoded data removed]"
          },
          "metadata": {
            "needs_background": "light"
          }
        }
      ]
    },
    {
      "cell_type": "markdown",
      "source": [
        "### Problem 9\n",
        "\n",
        "It seems that the error is still decreasing slowly. Perhaps changing some hyperparamters might help. Change the hyperparameters in the `fit_nonlinear_model` function so that your model obtain an error of less than 0.6."
      ],
      "metadata": {
        "id": "G8oT1JHVn2KK"
      }
    },
    {
      "cell_type": "code",
      "source": [
        "def fit_nonlinear_model(inputs, targets):\n",
        "    mapped_inputs = basis_function(inputs)\n",
        "    weights_initial = torch.Tensor([1.0, 1.0, 1.0])\n",
        "    ### start modifying the code here ###\n",
        "    learning_rate = 0.0030\n",
        "    num_iterations = 1450\n",
        "    ### stop modifying the code here ###\n",
        "    weights_learned, errors = gradient_descent_with_logger(weights_initial, mapped_inputs, targets, learning_rate, num_iterations)\n",
        "    fitted_figure = visualize_nonlinear_model(weights_learned, mapped_inputs, targets)\n",
        "    return weights_learned, errors, fitted_figure"
      ],
      "metadata": {
        "id": "fujaitCFph25"
      },
      "execution_count": null,
      "outputs": []
    },
    {
      "cell_type": "code",
      "source": [
        "# Public testcase for fit_nonlinear_model\n",
        "\n",
        "torch.manual_seed(test_seed)\n",
        "weights_learned, errors, fitted_figure = fit_nonlinear_model(inputs, targets)\n",
        "error_relative_string = \"more\" if errors[-1] > 0.6 else \"less\"\n",
        "print(f\"Model has an error of {errors[-1]:.3f}, which is {error_relative_string} than the required error of 0.6.\")\n",
        "fitted_figure.show()"
      ],
      "metadata": {
        "id": "-eG5LbcOfgvp",
        "colab": {
          "base_uri": "https://localhost:8080/",
          "height": 312
        },
        "outputId": "9736f27a-502b-44fb-d63a-114815a27889"
      },
      "execution_count": null,
      "outputs": [
        {
          "output_type": "stream",
          "name": "stdout",
          "text": [
            "Model has an error of 0.565, which is less than the required error of 0.6.\n"
          ]
        },
        {
          "output_type": "display_data",
          "data": {
            "text/plain": [
              "<Figure size 432x288 with 1 Axes>"
            ],
            "image/png": "[encoded data removed]"
          },
          "metadata": {
            "needs_background": "light"
          }
        }
      ]
    },
    {
      "cell_type": "code",
      "source": [
        "error_figure = plot_error_curve(errors, learning_rate)\n",
        "error_figure.show()"
      ],
      "metadata": {
        "id": "2tcORvggxAuM",
        "colab": {
          "base_uri": "https://localhost:8080/",
          "height": 295
        },
        "outputId": "8ad08e2d-8d1b-434b-f811-b3c3779ebeef"
      },
      "execution_count": null,
      "outputs": [
        {
          "output_type": "display_data",
          "data": {
            "text/plain": [
              "<Figure size 432x288 with 1 Axes>"
            ],
            "image/png": "[encoded data removed]"
          },
          "metadata": {
            "needs_background": "light"
          }
        }
      ]
    }
  ]
}